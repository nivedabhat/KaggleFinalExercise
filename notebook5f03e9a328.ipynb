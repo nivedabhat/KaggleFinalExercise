{
 "cells": [
  {
   "cell_type": "code",
   "execution_count": 1,
   "id": "52aa2b96",
   "metadata": {
    "execution": {
     "iopub.execute_input": "2024-01-26T19:47:50.821276Z",
     "iopub.status.busy": "2024-01-26T19:47:50.820461Z",
     "iopub.status.idle": "2024-01-26T19:47:52.800729Z",
     "shell.execute_reply": "2024-01-26T19:47:52.799218Z"
    },
    "papermill": {
     "duration": 1.987219,
     "end_time": "2024-01-26T19:47:52.803580",
     "exception": false,
     "start_time": "2024-01-26T19:47:50.816361",
     "status": "completed"
    },
    "tags": []
   },
   "outputs": [
    {
     "name": "stdout",
     "output_type": "stream",
     "text": [
      "Setup Complete\n"
     ]
    }
   ],
   "source": [
    "import pandas as pd\n",
    "pd.plotting.register_matplotlib_converters()\n",
    "import matplotlib.pyplot as plt\n",
    "%matplotlib inline\n",
    "import seaborn as sns\n",
    "print(\"Setup Complete\")"
   ]
  }
 ],
 "metadata": {
  "kaggle": {
   "accelerator": "none",
   "dataSources": [],
   "dockerImageVersionId": 30635,
   "isGpuEnabled": false,
   "isInternetEnabled": true,
   "language": "python",
   "sourceType": "notebook"
  },
  "kernelspec": {
   "display_name": "Python 3",
   "language": "python",
   "name": "python3"
  },
  "language_info": {
   "codemirror_mode": {
    "name": "ipython",
    "version": 3
   },
   "file_extension": ".py",
   "mimetype": "text/x-python",
   "name": "python",
   "nbconvert_exporter": "python",
   "pygments_lexer": "ipython3",
   "version": "3.10.12"
  },
  "papermill": {
   "default_parameters": {},
   "duration": 6.175925,
   "end_time": "2024-01-26T19:47:53.426946",
   "environment_variables": {},
   "exception": null,
   "input_path": "__notebook__.ipynb",
   "output_path": "__notebook__.ipynb",
   "parameters": {},
   "start_time": "2024-01-26T19:47:47.251021",
   "version": "2.4.0"
  }
 },
 "nbformat": 4,
 "nbformat_minor": 5
}
